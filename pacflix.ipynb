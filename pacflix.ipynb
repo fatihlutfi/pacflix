{
 "cells": [
  {
   "cell_type": "code",
   "execution_count": 1,
   "metadata": {},
   "outputs": [
    {
     "ename": "ModuleNotFoundError",
     "evalue": "No module named 'datetime.relativedelta'; 'datetime' is not a package",
     "output_type": "error",
     "traceback": [
      "\u001b[1;31m---------------------------------------------------------------------------\u001b[0m",
      "\u001b[1;31mModuleNotFoundError\u001b[0m                       Traceback (most recent call last)",
      "Cell \u001b[1;32mIn[1], line 1\u001b[0m\n\u001b[1;32m----> 1\u001b[0m \u001b[38;5;28;01mfrom\u001b[39;00m \u001b[38;5;21;01mpacflix\u001b[39;00m \u001b[38;5;28;01mimport\u001b[39;00m pacflix\n",
      "File \u001b[1;32md:\\Paccman\\pacflix\\pacflix.py:2\u001b[0m\n\u001b[0;32m      1\u001b[0m \u001b[38;5;28;01mfrom\u001b[39;00m \u001b[38;5;21;01mdatetime\u001b[39;00m \u001b[38;5;28;01mimport\u001b[39;00m datetime\n\u001b[1;32m----> 2\u001b[0m \u001b[38;5;28;01mfrom\u001b[39;00m \u001b[38;5;21;01mdatetime\u001b[39;00m\u001b[38;5;21;01m.\u001b[39;00m\u001b[38;5;21;01mrelativedelta\u001b[39;00m \u001b[38;5;28;01mimport\u001b[39;00m relativedelta\n\u001b[0;32m      4\u001b[0m \u001b[38;5;28;01mclass\u001b[39;00m \u001b[38;5;21;01mpacflix\u001b[39;00m():\n\u001b[0;32m      5\u001b[0m     list_of_referral_code \u001b[38;5;241m=\u001b[39m []\n",
      "\u001b[1;31mModuleNotFoundError\u001b[0m: No module named 'datetime.relativedelta'; 'datetime' is not a package"
     ]
    }
   ],
   "source": [
    "from pacflix import pacflix\n"
   ]
  },
  {
   "cell_type": "code",
   "execution_count": 36,
   "metadata": {},
   "outputs": [
    {
     "name": "stdout",
     "output_type": "stream",
     "text": [
      "Your account succsessfully created, share this code 'Fatih' to your friend\n"
     ]
    }
   ],
   "source": [
    "fatih = pacflix(\"Fatih\")"
   ]
  },
  {
   "cell_type": "code",
   "execution_count": 37,
   "metadata": {},
   "outputs": [
    {
     "name": "stdout",
     "output_type": "stream",
     "text": [
      "Your account succsessfully created, share this code 'Fatih' to your friend\n"
     ]
    }
   ],
   "source": [
    "fatih = pacflix(\"Fatih\")"
   ]
  },
  {
   "cell_type": "code",
   "execution_count": 38,
   "metadata": {},
   "outputs": [
    {
     "name": "stdout",
     "output_type": "stream",
     "text": [
      "Your account succsessfully created, share this code 'Fatih' to your friend\n"
     ]
    }
   ],
   "source": [
    "fatih = pacflix(\"Fatih\")\n"
   ]
  },
  {
   "cell_type": "code",
   "execution_count": 39,
   "metadata": {},
   "outputs": [
    {
     "name": "stdout",
     "output_type": "stream",
     "text": [
      "Your account succsessfully created, share this code 'Fatih' to your friend\n"
     ]
    }
   ],
   "source": [
    "fatih = pacflix(\"Fatih\")"
   ]
  },
  {
   "cell_type": "code",
   "execution_count": 40,
   "metadata": {},
   "outputs": [
    {
     "data": {
      "text/plain": [
       "['Agus',\n",
       " 'Fatih',\n",
       " 'Fatih',\n",
       " 'Fatih',\n",
       " 'Fatih',\n",
       " 'Fatih',\n",
       " 'Bagus',\n",
       " 'Dimas',\n",
       " 'Agus',\n",
       " 'Agus',\n",
       " 'Fatih',\n",
       " 'Agus',\n",
       " 'Fatih',\n",
       " 'Agus',\n",
       " 'Fatih',\n",
       " 'Fatih',\n",
       " 'Fatih',\n",
       " 'Fatih',\n",
       " 'Fatih']"
      ]
     },
     "execution_count": 40,
     "metadata": {},
     "output_type": "execute_result"
    }
   ],
   "source": [
    "pacflix.list_of_referral_code"
   ]
  },
  {
   "cell_type": "code",
   "execution_count": 41,
   "metadata": {},
   "outputs": [
    {
     "name": "stdout",
     "output_type": "stream",
     "text": [
      "Your account succsessfully created, share this code 'Bagus' to your friend\n"
     ]
    }
   ],
   "source": [
    "bagus = pacflix('Bagus')"
   ]
  },
  {
   "cell_type": "code",
   "execution_count": 42,
   "metadata": {},
   "outputs": [
    {
     "name": "stdout",
     "output_type": "stream",
     "text": [
      "Your account succsessfully created, share this code 'Dimas' to your friend\n"
     ]
    }
   ],
   "source": [
    "dimas = pacflix('Dimas')"
   ]
  },
  {
   "cell_type": "code",
   "execution_count": 43,
   "metadata": {},
   "outputs": [
    {
     "name": "stdout",
     "output_type": "stream",
     "text": [
      "Your account succsessfully created, share this code 'Agus' to your friend\n"
     ]
    }
   ],
   "source": [
    "agus = pacflix(\"Agus\")"
   ]
  },
  {
   "cell_type": "code",
   "execution_count": 44,
   "metadata": {},
   "outputs": [
    {
     "data": {
      "text/plain": [
       "['Agus',\n",
       " 'Fatih',\n",
       " 'Fatih',\n",
       " 'Fatih',\n",
       " 'Fatih',\n",
       " 'Fatih',\n",
       " 'Bagus',\n",
       " 'Dimas',\n",
       " 'Agus',\n",
       " 'Agus',\n",
       " 'Fatih',\n",
       " 'Agus',\n",
       " 'Fatih',\n",
       " 'Agus',\n",
       " 'Fatih',\n",
       " 'Fatih',\n",
       " 'Fatih',\n",
       " 'Fatih',\n",
       " 'Fatih',\n",
       " 'Bagus',\n",
       " 'Dimas',\n",
       " 'Agus']"
      ]
     },
     "execution_count": 44,
     "metadata": {},
     "output_type": "execute_result"
    }
   ],
   "source": [
    "pacflix.list_of_referral_code"
   ]
  },
  {
   "cell_type": "code",
   "execution_count": 45,
   "metadata": {},
   "outputs": [],
   "source": [
    "from pacflix import pacflix\n"
   ]
  },
  {
   "cell_type": "code",
   "execution_count": 46,
   "metadata": {},
   "outputs": [
    {
     "data": {
      "text/plain": [
       "['Agus',\n",
       " 'Fatih',\n",
       " 'Fatih',\n",
       " 'Fatih',\n",
       " 'Fatih',\n",
       " 'Fatih',\n",
       " 'Bagus',\n",
       " 'Dimas',\n",
       " 'Agus',\n",
       " 'Agus',\n",
       " 'Fatih',\n",
       " 'Agus',\n",
       " 'Fatih',\n",
       " 'Agus',\n",
       " 'Fatih',\n",
       " 'Fatih',\n",
       " 'Fatih',\n",
       " 'Fatih',\n",
       " 'Fatih',\n",
       " 'Bagus',\n",
       " 'Dimas',\n",
       " 'Agus']"
      ]
     },
     "execution_count": 46,
     "metadata": {},
     "output_type": "execute_result"
    }
   ],
   "source": [
    "pacflix.list_of_referral_code"
   ]
  },
  {
   "cell_type": "code",
   "execution_count": 1,
   "metadata": {},
   "outputs": [
    {
     "ename": "NameError",
     "evalue": "name 'pacflix' is not defined",
     "output_type": "error",
     "traceback": [
      "\u001b[1;31m---------------------------------------------------------------------------\u001b[0m",
      "\u001b[1;31mNameError\u001b[0m                                 Traceback (most recent call last)",
      "Cell \u001b[1;32mIn[1], line 1\u001b[0m\n\u001b[1;32m----> 1\u001b[0m agus \u001b[38;5;241m=\u001b[39m \u001b[43mpacflix\u001b[49m(\u001b[38;5;124m\"\u001b[39m\u001b[38;5;124mAgus\u001b[39m\u001b[38;5;124m\"\u001b[39m)\n",
      "\u001b[1;31mNameError\u001b[0m: name 'pacflix' is not defined"
     ]
    }
   ],
   "source": [
    "agus = pacflix(\"Agus\")"
   ]
  },
  {
   "cell_type": "code",
   "execution_count": 2,
   "metadata": {},
   "outputs": [
    {
     "ename": "NameError",
     "evalue": "name 'pacflix' is not defined",
     "output_type": "error",
     "traceback": [
      "\u001b[1;31m---------------------------------------------------------------------------\u001b[0m",
      "\u001b[1;31mNameError\u001b[0m                                 Traceback (most recent call last)",
      "Cell \u001b[1;32mIn[2], line 1\u001b[0m\n\u001b[1;32m----> 1\u001b[0m fatih \u001b[38;5;241m=\u001b[39m \u001b[43mpacflix\u001b[49m(\u001b[38;5;124m\"\u001b[39m\u001b[38;5;124mFatih\u001b[39m\u001b[38;5;124m\"\u001b[39m)\n",
      "\u001b[1;31mNameError\u001b[0m: name 'pacflix' is not defined"
     ]
    }
   ],
   "source": [
    "fatih = pacflix(\"Fatih\")"
   ]
  },
  {
   "cell_type": "code",
   "execution_count": 49,
   "metadata": {},
   "outputs": [
    {
     "name": "stdout",
     "output_type": "stream",
     "text": [
      "List of Paccflix Plan\n",
      "1. Basic Plan\n",
      "SD, 1 Device, Movie, 120000\n",
      "\n",
      "2. Standard Plan.\n",
      "HD, 2 Device, Movie + Sport, 160000\n",
      "\n",
      "3. Premium Plan.\n",
      "UHD, 4 Device, Movie + Sport + Original, 200000\n"
     ]
    }
   ],
   "source": [
    "fatih.list_plan()"
   ]
  },
  {
   "cell_type": "code",
   "execution_count": 50,
   "metadata": {},
   "outputs": [],
   "source": [
    "from pacflix import pacflix"
   ]
  },
  {
   "cell_type": "code",
   "execution_count": 51,
   "metadata": {},
   "outputs": [
    {
     "name": "stdout",
     "output_type": "stream",
     "text": [
      "Your account succsessfully created, share this code 'Agus' to your friend\n",
      "Your account succsessfully created, share this code 'Fatih' to your friend\n"
     ]
    }
   ],
   "source": [
    "agus = pacflix(\"Agus\")\n",
    "fatih = pacflix(\"Fatih\")"
   ]
  },
  {
   "cell_type": "code",
   "execution_count": 52,
   "metadata": {},
   "outputs": [
    {
     "name": "stdout",
     "output_type": "stream",
     "text": [
      "You do not have any subs yet.\n"
     ]
    }
   ],
   "source": [
    "fatih.chek_plan()"
   ]
  },
  {
   "cell_type": "code",
   "execution_count": 53,
   "metadata": {},
   "outputs": [],
   "source": [
    "from pacflix import pacflix\n"
   ]
  },
  {
   "cell_type": "code",
   "execution_count": 54,
   "metadata": {},
   "outputs": [
    {
     "name": "stdout",
     "output_type": "stream",
     "text": [
      "Your account succsessfully created, share this code 'Agus' to your friend\n",
      "Your account succsessfully created, share this code 'Fatih' to your friend\n"
     ]
    }
   ],
   "source": [
    "agus = pacflix(\"Agus\")\n",
    "fatih = pacflix(\"Fatih\")"
   ]
  },
  {
   "cell_type": "code",
   "execution_count": 55,
   "metadata": {},
   "outputs": [
    {
     "name": "stdout",
     "output_type": "stream",
     "text": [
      "You do not have any subs yet.\n"
     ]
    }
   ],
   "source": [
    "fatih.chek_plan()"
   ]
  },
  {
   "cell_type": "code",
   "execution_count": 56,
   "metadata": {},
   "outputs": [
    {
     "name": "stdout",
     "output_type": "stream",
     "text": [
      "You're selected Premium Plan with, price 200000\n"
     ]
    }
   ],
   "source": [
    "fatih.purchase(\"Premium Plan\", None, 20)"
   ]
  },
  {
   "cell_type": "code",
   "execution_count": 57,
   "metadata": {},
   "outputs": [
    {
     "name": "stdout",
     "output_type": "stream",
     "text": [
      "your current plan is Premium Plan\n"
     ]
    }
   ],
   "source": [
    "fatih.chek_plan()"
   ]
  },
  {
   "cell_type": "code",
   "execution_count": 58,
   "metadata": {},
   "outputs": [
    {
     "name": "stdout",
     "output_type": "stream",
     "text": [
      "You're selected Premium Plan with referral code from Fatih , price 192000.0\n"
     ]
    }
   ],
   "source": [
    "agus.purchase(\"Premium Plan\", \"Fatih\", 20)"
   ]
  },
  {
   "cell_type": "code",
   "execution_count": 59,
   "metadata": {},
   "outputs": [
    {
     "name": "stdout",
     "output_type": "stream",
     "text": [
      "your current plan is Premium Plan\n"
     ]
    }
   ],
   "source": [
    "agus.chek_plan()"
   ]
  },
  {
   "cell_type": "code",
   "execution_count": 60,
   "metadata": {},
   "outputs": [],
   "source": [
    "from datetime import datetime\n",
    "from dateutil.relativedelta import relativedelta"
   ]
  },
  {
   "cell_type": "code",
   "execution_count": null,
   "metadata": {},
   "outputs": [],
   "source": []
  }
 ],
 "metadata": {
  "kernelspec": {
   "display_name": "venv",
   "language": "python",
   "name": "python3"
  },
  "language_info": {
   "codemirror_mode": {
    "name": "ipython",
    "version": 3
   },
   "file_extension": ".py",
   "mimetype": "text/x-python",
   "name": "python",
   "nbconvert_exporter": "python",
   "pygments_lexer": "ipython3",
   "version": "3.11.8"
  }
 },
 "nbformat": 4,
 "nbformat_minor": 2
}
